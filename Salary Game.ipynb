{
 "cells": [
  {
   "cell_type": "code",
   "execution_count": 3,
   "metadata": {},
   "outputs": [
    {
     "data": {
      "text/plain": [
       "<function matplotlib.pyplot.show(*args, **kw)>"
      ]
     },
     "execution_count": 3,
     "metadata": {},
     "output_type": "execute_result"
    },
    {
     "data": {
      "image/png": "[encoded data removed]",
      "text/plain": [
       "<Figure size 432x288 with 1 Axes>"
      ]
     },
     "metadata": {
      "needs_background": "light"
     },
     "output_type": "display_data"
    }
   ],
   "source": [
    "import numpy as np\n",
    "import random\n",
    "import matplotlib.pyplot as plt\n",
    "n,m,dm,k=200,40,10,1000\n",
    "\n",
    "money=np.linspace(m,m,n)\n",
    "for i in range(k):\n",
    "    p1=p2=0\n",
    "    while p1==p2 or money[p1]==0 or money[p2]==0:\n",
    "        p1=np.random.randint(0,n)\n",
    "        p2=np.random.randint(0,n)\n",
    "    win=np.random.randint(0,1)\n",
    "    if win==0:\n",
    "        money[p1]=money[p1]+dm\n",
    "        money[p2]=money[p2]-dm\n",
    "    else:\n",
    "        money[p2]=money[p2]+dm\n",
    "        money[p1]=money[p1]-dm\n",
    "bins=10\n",
    "plt.clf()\n",
    "plt.hist(money,bins)\n",
    "plt.xlabel('Money')\n",
    "plt.ylabel('Number of students')\n",
    "plt.ylim(0,n)\n",
    "plt.show"
   ]
  },
  {
   "cell_type": "code",
   "execution_count": null,
   "metadata": {},
   "outputs": [],
   "source": []
  },
  {
   "cell_type": "code",
   "execution_count": null,
   "metadata": {},
   "outputs": [],
   "source": []
  }
 ],
 "metadata": {
  "kernelspec": {
   "display_name": "Python 3",
   "language": "python",
   "name": "python3"
  },
  "language_info": {
   "codemirror_mode": {
    "name": "ipython",
    "version": 3
   },
   "file_extension": ".py",
   "mimetype": "text/x-python",
   "name": "python",
   "nbconvert_exporter": "python",
   "pygments_lexer": "ipython3",
   "version": "3.7.1"
  }
 },
 "nbformat": 4,
 "nbformat_minor": 2
}
