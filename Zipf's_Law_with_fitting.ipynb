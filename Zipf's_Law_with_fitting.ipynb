{
 "cells": [
  {
   "cell_type": "code",
   "execution_count": 30,
   "metadata": {},
   "outputs": [
    {
     "name": "stdout",
     "output_type": "stream",
     "text": [
      "6331\n",
      "[ 1.13109796e+03 -7.14358698e-01] [[ 3.49311143e+01 -8.04444338e-03]\n",
      " [-8.04444338e-03  4.31394026e-06]]\n"
     ]
    },
    {
     "data": {
      "image/png": "[encoded data removed]",
      "text/plain": [
       "<Figure size 432x288 with 1 Axes>"
      ]
     },
     "metadata": {
      "needs_background": "light"
     },
     "output_type": "display_data"
    }
   ],
   "source": [
    "fp=open('Alice.txt','r')\n",
    "line=fp.readline()\n",
    "s=line.split() #把一個句子裡的所有字分開\n",
    "dict={}\n",
    "while line: #算字數\n",
    "    s=line.split()\n",
    "    for x in s:\n",
    "        if x not in dict:\n",
    "            dict[x]=1\n",
    "        else:\n",
    "            dict[x]=dict[x]+1\n",
    "    line=fp.readline()\n",
    "fp.close()\n",
    "\n",
    "list=[]\n",
    "for key in dict: #把dict裡的value全部丟到list\n",
    "    list.append(dict[key])\n",
    "print(len(list))\n",
    "list.sort() #整理\n",
    "list.reverse()\n",
    "\n",
    "import matplotlib.pyplot as plt\n",
    "import numpy as np\n",
    "\n",
    "list1=list[1:6000]\n",
    "\n",
    "from scipy import optimize\n",
    "\n",
    "def test_func(x,amp,f):\n",
    "    return amp*x**f\n",
    "params,params_covarience=optimize.curve_fit(test_func,range(1,6000),list1)\n",
    "print(params,params_covarience)\n",
    "plt.plot(range(1,6000),test_func(range(1,6000),params[0],params[1]),\"r*\",label='Fitted function')\n",
    "\n",
    "plt.plot(range(1,6000),list1) #range:直接把list items編號丟出來\n",
    "plt.ylabel('Number of the occurence')\n",
    "plt.xlabel('Rank of words')\n",
    "plt.show()"
   ]
  }
 ],
 "metadata": {
  "kernelspec": {
   "display_name": "Python 3",
   "language": "python",
   "name": "python3"
  },
  "language_info": {
   "codemirror_mode": {
    "name": "ipython",
    "version": 3
   },
   "file_extension": ".py",
   "mimetype": "text/x-python",
   "name": "python",
   "nbconvert_exporter": "python",
   "pygments_lexer": "ipython3",
   "version": "3.7.1"
  }
 },
 "nbformat": 4,
 "nbformat_minor": 2
}
