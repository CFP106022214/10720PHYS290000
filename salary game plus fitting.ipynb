{
 "cells": [
  {
   "cell_type": "code",
   "execution_count": 13,
   "metadata": {},
   "outputs": [
    {
     "data": {
      "text/plain": [
       "<function matplotlib.pyplot.show(*args, **kw)>"
      ]
     },
     "execution_count": 13,
     "metadata": {},
     "output_type": "execute_result"
    },
    {
     "data": {
      "image/png": "[encoded data removed]",
      "text/plain": [
       "<Figure size 432x288 with 1 Axes>"
      ]
     },
     "metadata": {
      "needs_background": "light"
     },
     "output_type": "display_data"
    }
   ],
   "source": [
    "import numpy as np\n",
    "import random\n",
    "import matplotlib.pyplot as plt\n",
    "n,m,dm,k=200,40,10,5000\n",
    "\n",
    "money=np.linspace(m,m,n)\n",
    "for i in range(k):\n",
    "    p1=p2=0\n",
    "    while p1==p2:\n",
    "        p1=np.random.randint(0,n)\n",
    "        p2=np.random.randint(0,n)\n",
    "    win=np.random.randint(0,1)\n",
    "    if win==0 and money[p2]!=0:\n",
    "        money[p1]=money[p1]+dm\n",
    "        money[p2]=money[p2]-dm\n",
    "    elif win==1 and money[p1]!=0:\n",
    "        money[p2]=money[p2]+dm\n",
    "        money[p1]=money[p1]-dm\n",
    "bins=10\n",
    "plt.clf()\n",
    "plt.hist(money,bins)\n",
    "plt.xlabel('Money')\n",
    "plt.ylabel('Number of students')\n",
    "plt.ylim(0,n)\n",
    "plt.show"
   ]
  },
  {
   "cell_type": "code",
   "execution_count": 15,
   "metadata": {},
   "outputs": [
    {
     "name": "stdout",
     "output_type": "stream",
     "text": [
      "(array([66., 48., 32., 19., 13.,  8.,  7.,  5.,  0.,  2.]), array([  0.,  20.,  40.,  60.,  80., 100., 120., 140., 160., 180., 200.]), <a list of 10 Patch objects>)\n",
      "[ 10.  30.  50.  70.  90. 110. 130. 150. 170. 190.]\n",
      "[92.58431836] [[15.23156927]]\n"
     ]
    },
    {
     "data": {
      "text/plain": [
       "[<matplotlib.lines.Line2D at 0x198885096d8>]"
      ]
     },
     "execution_count": 15,
     "metadata": {},
     "output_type": "execute_result"
    },
    {
     "data": {
      "image/png": "[encoded data removed]",
      "text/plain": [
       "<Figure size 432x288 with 1 Axes>"
      ]
     },
     "metadata": {
      "needs_background": "light"
     },
     "output_type": "display_data"
    }
   ],
   "source": [
    "a=plt.hist(money,10)\n",
    "print(a)\n",
    "dx=(a[1][1]-a[1][0])\n",
    "bin_center=np.array(a[1][0:-1])+dx/2\n",
    "print(bin_center)\n",
    "\n",
    "from scipy import optimize\n",
    "\n",
    "def test_func(x,amp):\n",
    "    return amp*np.exp(-x/m)\n",
    "params,params_covarience=optimize.curve_fit(test_func,bin_center,a[0])\n",
    "print(params,params_covarience)\n",
    "plt.plot(bin_center,test_func(bin_center,params[0]),\"r*\",label='Fitted function')"
   ]
  },
  {
   "cell_type": "code",
   "execution_count": 7,
   "metadata": {},
   "outputs": [
    {
     "data": {
      "text/plain": [
       "<function matplotlib.pyplot.show(*args, **kw)>"
      ]
     },
     "execution_count": 7,
     "metadata": {},
     "output_type": "execute_result"
    },
    {
     "data": {
      "image/png": "[encoded data removed]",
      "text/plain": [
       "<Figure size 432x288 with 1 Axes>"
      ]
     },
     "metadata": {
      "needs_background": "light"
     },
     "output_type": "display_data"
    }
   ],
   "source": [
    "import numpy as np\n",
    "import random\n",
    "import matplotlib.pyplot as plt\n",
    "n,m,dm,k=200,40,10,5000\n",
    "\n",
    "money=np.linspace(m,m,n)\n",
    "for i in range(k):\n",
    "    p1=p2=0\n",
    "    while p1==p2 or money[p2]==0 or money[p1]==0:\n",
    "        p1=np.random.randint(0,n)\n",
    "        p2=np.random.randint(0,n)\n",
    "    win=np.random.randint(0,1)\n",
    "    if win==0:\n",
    "        money[p1]=money[p1]+dm\n",
    "        money[p2]=money[p2]-dm\n",
    "    elif win==1:\n",
    "        money[p2]=money[p2]+dm\n",
    "        money[p1]=money[p1]-dm\n",
    "bins=10\n",
    "plt.clf()\n",
    "plt.hist(money,bins)\n",
    "plt.xlabel('Money')\n",
    "plt.ylabel('Number of students')\n",
    "plt.ylim(0,n)\n",
    "plt.show"
   ]
  },
  {
   "cell_type": "code",
   "execution_count": 24,
   "metadata": {},
   "outputs": [
    {
     "data": {
      "text/plain": [
       "<function matplotlib.pyplot.show(*args, **kw)>"
      ]
     },
     "execution_count": 24,
     "metadata": {},
     "output_type": "execute_result"
    },
    {
     "data": {
      "image/png": "[encoded data removed]",
      "text/plain": [
       "<Figure size 432x288 with 1 Axes>"
      ]
     },
     "metadata": {
      "needs_background": "light"
     },
     "output_type": "display_data"
    }
   ],
   "source": [
    "import numpy as np\n",
    "import random\n",
    "import matplotlib.pyplot as plt\n",
    "n,m,dm,k=500,40,10,10000\n",
    "\n",
    "money=np.linspace(m,m,n)\n",
    "for i in range(k):\n",
    "    p1=p2=0\n",
    "    while p1==p2:\n",
    "        p1=np.random.randint(0,n)\n",
    "        p2=np.random.randint(0,n)\n",
    "    win=np.random.randint(0,1)\n",
    "    if win==0:\n",
    "        money[p1]=money[p1]+dm\n",
    "        money[p2]=money[p2]-dm\n",
    "    elif win==1:\n",
    "        money[p2]=money[p2]+dm\n",
    "        money[p1]=money[p1]-dm\n",
    "bins=10\n",
    "plt.clf()\n",
    "plt.hist(money,bins)\n",
    "plt.xlabel('Money')\n",
    "plt.ylabel('Number of students')\n",
    "plt.ylim(0,n)\n",
    "plt.show"
   ]
  },
  {
   "cell_type": "code",
   "execution_count": 29,
   "metadata": {},
   "outputs": [
    {
     "name": "stdout",
     "output_type": "stream",
     "text": [
      "(array([ 1.,  1.,  2.,  0.,  4.,  0.,  4.,  0.,  6., 13.,  0.,  7.,  8.,\n",
      "       26.,  0., 19., 24.,  0., 29., 28., 31.,  0., 38., 34.,  0., 27.,\n",
      "       26., 27.,  0., 29., 29., 23.,  0., 10., 13.,  0.,  8.,  7.,  9.,\n",
      "        0.,  8.,  3.,  0.,  2.,  1.,  0.,  0.,  1.,  1.,  1.]), array([-130. , -122.8, -115.6, -108.4, -101.2,  -94. ,  -86.8,  -79.6,\n",
      "        -72.4,  -65.2,  -58. ,  -50.8,  -43.6,  -36.4,  -29.2,  -22. ,\n",
      "        -14.8,   -7.6,   -0.4,    6.8,   14. ,   21.2,   28.4,   35.6,\n",
      "         42.8,   50. ,   57.2,   64.4,   71.6,   78.8,   86. ,   93.2,\n",
      "        100.4,  107.6,  114.8,  122. ,  129.2,  136.4,  143.6,  150.8,\n",
      "        158. ,  165.2,  172.4,  179.6,  186.8,  194. ,  201.2,  208.4,\n",
      "        215.6,  222.8,  230. ]), <a list of 50 Patch objects>)\n",
      "[-126.4 -119.2 -112.  -104.8  -97.6  -90.4  -83.2  -76.   -68.8  -61.6\n",
      "  -54.4  -47.2  -40.   -32.8  -25.6  -18.4  -11.2   -4.     3.2   10.4\n",
      "   17.6   24.8   32.    39.2   46.4   53.6   60.8   68.    75.2   82.4\n",
      "   89.6   96.8  104.   111.2  118.4  125.6  132.8  140.   147.2  154.4\n",
      "  161.6  168.8  176.   183.2  190.4  197.6  204.8  212.   219.2  226.4]\n",
      "[ 2.37435156e+01 -1.65291697e-02] [[ 7.66663464e+00 -3.57123495e-03]\n",
      " [-3.57123495e-03  4.97561887e-06]]\n"
     ]
    },
    {
     "data": {
      "text/plain": [
       "[<matplotlib.lines.Line2D at 0x1988a7ca048>]"
      ]
     },
     "execution_count": 29,
     "metadata": {},
     "output_type": "execute_result"
    },
    {
     "data": {
      "image/png": "[encoded data removed]",
      "text/plain": [
       "<Figure size 432x288 with 1 Axes>"
      ]
     },
     "metadata": {
      "needs_background": "light"
     },
     "output_type": "display_data"
    }
   ],
   "source": [
    "a=plt.hist(money,50)\n",
    "print(a)\n",
    "dx=(a[1][1]-a[1][0])\n",
    "bin_center=np.array(a[1][0:-1])+dx/2\n",
    "print(bin_center)\n",
    "\n",
    "from scipy import optimize\n",
    "\n",
    "def test_func(x,amp,sigma):\n",
    "    return amp*np.exp(-(x-m)**2/2*sigma**2)\n",
    "params,params_covarience=optimize.curve_fit(test_func,bin_center,a[0])\n",
    "print(params,params_covarience)\n",
    "plt.plot(bin_center,test_func(bin_center,params[0],params[1]),\"r*\",label='Fitted function')"
   ]
  },
  {
   "cell_type": "code",
   "execution_count": null,
   "metadata": {},
   "outputs": [],
   "source": []
  }
 ],
 "metadata": {
  "kernelspec": {
   "display_name": "Python 3",
   "language": "python",
   "name": "python3"
  },
  "language_info": {
   "codemirror_mode": {
    "name": "ipython",
    "version": 3
   },
   "file_extension": ".py",
   "mimetype": "text/x-python",
   "name": "python",
   "nbconvert_exporter": "python",
   "pygments_lexer": "ipython3",
   "version": "3.7.1"
  }
 },
 "nbformat": 4,
 "nbformat_minor": 2
}
