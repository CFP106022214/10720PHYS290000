{
 "cells": [
  {
   "cell_type": "code",
   "execution_count": 13,
   "metadata": {},
   "outputs": [
    {
     "data": {
      "text/plain": [
       "<function matplotlib.pyplot.show(*args, **kw)>"
      ]
     },
     "execution_count": 13,
     "metadata": {},
     "output_type": "execute_result"
    },
    {
     "data": {
      "image/png": "[encoded data removed]",
      "text/plain": [
       "<Figure size 432x288 with 1 Axes>"
      ]
     },
     "metadata": {
      "needs_background": "light"
     },
     "output_type": "display_data"
    }
   ],
   "source": [
    "import numpy as np\n",
    "import random\n",
    "import matplotlib.pyplot as plt\n",
    "n,m,dm,k=200,40,10,5000\n",
    "\n",
    "money=np.linspace(m,m,n)\n",
    "for i in range(k):\n",
    "    p1=p2=0\n",
    "    while p1==p2:\n",
    "        p1=np.random.randint(0,n)\n",
    "        p2=np.random.randint(0,n)\n",
    "    win=np.random.randint(0,1)\n",
    "    if win==0 and money[p2]!=0:\n",
    "        money[p1]=money[p1]+dm\n",
    "        money[p2]=money[p2]-dm\n",
    "    elif win==1 and money[p1]!=0:\n",
    "        money[p2]=money[p2]+dm\n",
    "        money[p1]=money[p1]-dm\n",
    "bins=10\n",
    "plt.clf()\n",
    "plt.hist(money,bins)\n",
    "plt.xlabel('Money')\n",
    "plt.ylabel('Number of students')\n",
    "plt.ylim(0,n)\n",
    "plt.show"
   ]
  },
  {
   "cell_type": "code",
   "execution_count": 15,
   "metadata": {},
   "outputs": [
    {
     "name": "stdout",
     "output_type": "stream",
     "text": [
      "(array([66., 48., 32., 19., 13.,  8.,  7.,  5.,  0.,  2.]), array([  0.,  20.,  40.,  60.,  80., 100., 120., 140., 160., 180., 200.]), <a list of 10 Patch objects>)\n",
      "[ 10.  30.  50.  70.  90. 110. 130. 150. 170. 190.]\n",
      "[92.58431836] [[15.23156927]]\n"
     ]
    },
    {
     "data": {
      "text/plain": [
       "[<matplotlib.lines.Line2D at 0x198885096d8>]"
      ]
     },
     "execution_count": 15,
     "metadata": {},
     "output_type": "execute_result"
    },
    {
     "data": {
      "image/png": "[encoded data removed]",
      "text/plain": [
       "<Figure size 432x288 with 1 Axes>"
      ]
     },
     "metadata": {
      "needs_background": "light"
     },
     "output_type": "display_data"
    }
   ],
   "source": [
    "a=plt.hist(money,10)\n",
    "print(a)\n",
    "dx=(a[1][1]-a[1][0])\n",
    "bin_center=np.array(a[1][0:-1])+dx/2\n",
    "print(bin_center)\n",
    "\n",
    "from scipy import optimize\n",
    "\n",
    "def test_func(x,amp):\n",
    "    return amp*np.exp(-x/m)\n",
    "params,params_covarience=optimize.curve_fit(test_func,bin_center,a[0])\n",
    "print(params,params_covarience)\n",
    "plt.plot(bin_center,test_func(bin_center,params[0]),\"r*\",label='Fitted function')"
   ]
  },
  {
   "cell_type": "code",
   "execution_count": 7,
   "metadata": {},
   "outputs": [
    {
     "data": {
      "text/plain": [
       "<function matplotlib.pyplot.show(*args, **kw)>"
      ]
     },
     "execution_count": 7,
     "metadata": {},
     "output_type": "execute_result"
    },
    {
     "data": {
      "image/png": "[encoded data removed]",
      "text/plain": [
       "<Figure size 432x288 with 1 Axes>"
      ]
     },
     "metadata": {
      "needs_background": "light"
     },
     "output_type": "display_data"
    }
   ],
   "source": [
    "import numpy as np\n",
    "import random\n",
    "import matplotlib.pyplot as plt\n",
    "n,m,dm,k=200,40,10,5000\n",
    "\n",
    "money=np.linspace(m,m,n)\n",
    "for i in range(k):\n",
    "    p1=p2=0\n",
    "    while p1==p2 or money[p2]==0 or money[p1]==0:\n",
    "        p1=np.random.randint(0,n)\n",
    "        p2=np.random.randint(0,n)\n",
    "    win=np.random.randint(0,1)\n",
    "    if win==0:\n",
    "        money[p1]=money[p1]+dm\n",
    "        money[p2]=money[p2]-dm\n",
    "    elif win==1:\n",
    "        money[p2]=money[p2]+dm\n",
    "        money[p1]=money[p1]-dm\n",
    "bins=10\n",
    "plt.clf()\n",
    "plt.hist(money,bins)\n",
    "plt.xlabel('Money')\n",
    "plt.ylabel('Number of students')\n",
    "plt.ylim(0,n)\n",
    "plt.show"
   ]
  },
  {
   "cell_type": "code",
   "execution_count": 8,
   "metadata": {},
   "outputs": [
    {
     "data": {
      "text/plain": [
       "<function matplotlib.pyplot.show(*args, **kw)>"
      ]
     },
     "execution_count": 8,
     "metadata": {},
     "output_type": "execute_result"
    },
    {
     "data": {
      "image/png": "[encoded data removed]",
      "text/plain": [
       "<Figure size 432x288 with 1 Axes>"
      ]
     },
     "metadata": {
      "needs_background": "light"
     },
     "output_type": "display_data"
    }
   ],
   "source": [
    "import numpy as np\n",
    "import random\n",
    "import matplotlib.pyplot as plt\n",
    "n,m,dm,k=200,40,10,5000\n",
    "\n",
    "money=np.linspace(m,m,n)\n",
    "for i in range(k):\n",
    "    p1=p2=0\n",
    "    while p1==p2:\n",
    "        p1=np.random.randint(0,n)\n",
    "        p2=np.random.randint(0,n)\n",
    "    win=np.random.randint(0,1)\n",
    "    if win==0:\n",
    "        money[p1]=money[p1]+dm\n",
    "        money[p2]=money[p2]-dm\n",
    "    elif win==1:\n",
    "        money[p2]=money[p2]+dm\n",
    "        money[p1]=money[p1]-dm\n",
    "bins=10\n",
    "plt.clf()\n",
    "plt.hist(money,bins)\n",
    "plt.xlabel('Money')\n",
    "plt.ylabel('Number of students')\n",
    "plt.ylim(0,n)\n",
    "plt.show"
   ]
  },
  {
   "cell_type": "code",
   "execution_count": null,
   "metadata": {},
   "outputs": [],
   "source": []
  }
 ],
 "metadata": {
  "kernelspec": {
   "display_name": "Python 3",
   "language": "python",
   "name": "python3"
  },
  "language_info": {
   "codemirror_mode": {
    "name": "ipython",
    "version": 3
   },
   "file_extension": ".py",
   "mimetype": "text/x-python",
   "name": "python",
   "nbconvert_exporter": "python",
   "pygments_lexer": "ipython3",
   "version": "3.7.1"
  }
 },
 "nbformat": 4,
 "nbformat_minor": 2
}
